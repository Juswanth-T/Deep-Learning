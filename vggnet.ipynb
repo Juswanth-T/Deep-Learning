{
  "cells": [
    {
      "cell_type": "code",
      "execution_count": null,
      "metadata": {
        "colab": {
          "base_uri": "https://localhost:8080/"
        },
        "id": "qzLWl5cnwMtY",
        "outputId": "afd89264-637d-4afa-faa4-ab98fba7bd41"
      },
      "outputs": [],
      "source": [
        "pip install livelossplot\n"
      ]
    },
    {
      "cell_type": "markdown",
      "metadata": {
        "id": "AbHsiqL6C7zA"
      },
      "source": [
        "Mainly used this blog : https://www.learndatasci.com/tutorials/hands-on-transfer-learning-keras/#:~:text=Fine%2DTuning%20Approach,-In%20this%20approach&text=The%20goal%20of%20fine%2Dtuning,outputting%20the%20transformed%20visual%20features."
      ]
    },
    {
      "cell_type": "code",
      "execution_count": null,
      "metadata": {
        "colab": {
          "base_uri": "https://localhost:8080/"
        },
        "id": "-w9w1qckD-Dz",
        "outputId": "2dc2bfb6-d933-4b7c-d84a-ef7bec4f2b16"
      },
      "outputs": [],
      "source": [
        "from google.colab import drive\n",
        "drive.mount('/content/drive')"
      ]
    },
    {
      "cell_type": "code",
      "execution_count": null,
      "metadata": {
        "id": "yQr3SUPyvgyf"
      },
      "outputs": [],
      "source": [
        "import os\n",
        "from tensorflow.keras.models import Model\n",
        "from tensorflow.keras.optimizers import Adam\n",
        "from tensorflow.keras.applications.vgg16 import VGG16, preprocess_input\n",
        "from tensorflow.keras.preprocessing.image import ImageDataGenerator\n",
        "from tensorflow.keras.callbacks import ModelCheckpoint, EarlyStopping\n",
        "from tensorflow.keras.layers import Dense, Dropout, Flatten\n",
        "from pathlib import Path\n",
        "from livelossplot.inputs.keras import PlotLossesCallback\n",
        "from sklearn.metrics import accuracy_score\n",
        "import numpy as np"
      ]
    },
    {
      "cell_type": "code",
      "execution_count": null,
      "metadata": {
        "id": "d-n7HmoEvkDe"
      },
      "outputs": [],
      "source": [
        "\n",
        "\n",
        "BATCH_SIZE = 200\n",
        "\n",
        "train_generator = ImageDataGenerator(\n",
        "    rotation_range=90,\n",
        "    brightness_range=[0.1, 0.7],\n",
        "    width_shift_range=0.5,\n",
        "    height_shift_range=0.5,\n",
        "    horizontal_flip=True,\n",
        "    vertical_flip=True,\n",
        "    validation_split=0,\n",
        "    preprocessing_function=preprocess_input,\n",
        ")  # VGG16 preprocessing\n",
        "\n",
        "test_generator = ImageDataGenerator(\n",
        "    preprocessing_function=preprocess_input\n",
        ")  # VGG16 preprocessing\n",
        "\n"
      ]
    },
    {
      "cell_type": "code",
      "execution_count": null,
      "metadata": {
        "colab": {
          "base_uri": "https://localhost:8080/"
        },
        "id": "AmFzw_Mqvndk",
        "outputId": "ae880039-a120-44c6-fcd6-6bd03b4ef3b1"
      },
      "outputs": [],
      "source": [
        "download_dir = Path(\"drive/MyDrive/task_1\")\n",
        "train_data_dir = download_dir / \"train\"\n",
        "valid_data_dir = download_dir / \"valid\"\n",
        "test_data_dir = download_dir / \"test\"\n",
        "\n",
        "traingen = train_generator.flow_from_directory(\n",
        "    train_data_dir,\n",
        "    target_size=(224, 224),\n",
        "    class_mode=\"categorical\",\n",
        "    subset=\"training\",\n",
        "    batch_size=BATCH_SIZE,\n",
        "    shuffle=True,\n",
        "    seed=42,\n",
        ")\n",
        "\n",
        "train_generator = ImageDataGenerator(\n",
        "    rotation_range=90,\n",
        "    brightness_range=[0.1, 0.7],\n",
        "    width_shift_range=0.5,\n",
        "    height_shift_range=0.5,\n",
        "    horizontal_flip=True,\n",
        "    vertical_flip=True,\n",
        "    validation_split=0.999,\n",
        "    preprocessing_function=preprocess_input,\n",
        ")  # VGG16 preprocessing\n",
        "\n",
        "\n",
        "validgen = train_generator.flow_from_directory(\n",
        "    valid_data_dir,\n",
        "    target_size=(224, 224),\n",
        "    class_mode=\"categorical\",\n",
        "    subset=\"validation\",\n",
        "    batch_size=BATCH_SIZE,\n",
        "    shuffle=True,\n",
        "    seed=42,\n",
        ")\n",
        "\n",
        "testgen = test_generator.flow_from_directory(\n",
        "    test_data_dir,\n",
        "    target_size=(224, 224),\n",
        "    class_mode=None,\n",
        "    batch_size=1,\n",
        "    shuffle=False,\n",
        "    seed=42,\n",
        ")\n"
      ]
    },
    {
      "cell_type": "code",
      "execution_count": null,
      "metadata": {
        "colab": {
          "base_uri": "https://localhost:8080/"
        },
        "id": "pJr6CrNS1LG7",
        "outputId": "f266d086-d8e9-43d5-f6d6-d9e712ea1fb0"
      },
      "outputs": [],
      "source": [
        "print(len(traingen))"
      ]
    },
    {
      "cell_type": "code",
      "execution_count": null,
      "metadata": {
        "id": "TmOYQ9XIxMgD"
      },
      "outputs": [],
      "source": [
        "\n",
        "def create_model(input_shape, n_classes, optimizer=\"rmsprop\", fine_tune=0):\n",
        "    \"\"\"\n",
        "    Compiles a model integrated with VGG16 pretrained layers\n",
        "\n",
        "    input_shape: tuple - the shape of input images (width, height, channels)\n",
        "    n_classes: int - number of classes for the output layer\n",
        "    optimizer: string - instantiated optimizer to use for training. Defaults to 'RMSProp'\n",
        "    fine_tune: int - The number of pre-trained layers to unfreeze.\n",
        "                If set to 0, all pretrained layers will freeze during training\n",
        "    \"\"\"\n",
        "\n",
        "    # Pretrained convolutional layers are loaded using the Imagenet weights.\n",
        "    # Include_top is set to False, in order to exclude the model's fully-connected layers.\n",
        "    conv_base = VGG16(include_top=False, weights=\"imagenet\", input_shape=input_shape)\n",
        "\n",
        "    # Defines how many layers to freeze during training.\n",
        "    # Layers in the convolutional base are switched from trainable to non-trainable\n",
        "    # depending on the size of the fine-tuning parameter.\n",
        "    if fine_tune > 0:\n",
        "        for layer in conv_base.layers[:-fine_tune]:\n",
        "            layer.trainable = False\n",
        "    else:\n",
        "        for layer in conv_base.layers:\n",
        "            layer.trainable = False\n",
        "\n",
        "    # Create a new 'top' of the model (i.e. fully-connected layers).\n",
        "    # This is 'bootstrapping' a new top_model onto the pretrained layers.\n",
        "    top_model = conv_base.output\n",
        "    top_model = Flatten(name=\"flatten\")(top_model)\n",
        "    top_model = Dense(4096, activation=\"relu\")(top_model)\n",
        "    top_model = Dense(1072, activation=\"relu\")(top_model)\n",
        "    top_model = Dropout(0.2)(top_model)\n",
        "    output_layer = Dense(n_classes, activation=\"softmax\")(top_model)\n",
        "\n",
        "    # Group the convolutional base and new fully-connected layers into a Model object.\n",
        "    model = Model(inputs=conv_base.input, outputs=output_layer)\n",
        "\n",
        "    # Compiles the model for training.\n",
        "    model.compile(\n",
        "        optimizer=optimizer, loss=\"categorical_crossentropy\", metrics=[\"accuracy\"]\n",
        "    )\n",
        "\n",
        "    return model"
      ]
    },
    {
      "cell_type": "code",
      "execution_count": null,
      "metadata": {
        "colab": {
          "base_uri": "https://localhost:8080/"
        },
        "id": "05_igSCxzMsf",
        "outputId": "c1e8dfa5-520e-498d-c255-7930c8f61e38"
      },
      "outputs": [],
      "source": [
        "input_shape = (224, 224, 3)\n",
        "optim_1 = Adam(learning_rate=0.001)\n",
        "n_classes = 5\n",
        "\n",
        "n_steps = traingen.samples // BATCH_SIZE\n",
        "n_val_steps = validgen.samples // BATCH_SIZE\n",
        "n_epochs = 5\n",
        "\n",
        "# First we'll train the model without Fine-tuning\n",
        "vgg_model = create_model(input_shape, n_classes, optim_1, fine_tune=0)\n",
        "\n",
        "\n",
        "plot_loss_1 = PlotLossesCallback()\n",
        "\n",
        "# ModelCheckpoint callback - save best weights\n",
        "tl_checkpoint_1 = ModelCheckpoint(\n",
        "    filepath=\"drive/MyDrive/task_1/main_vgg.weights.best.keras\", save_best_only=True, verbose=1\n",
        ")\n",
        "\n",
        "# EarlyStopping\n",
        "early_stop = EarlyStopping(\n",
        "    monitor=\"val_loss\", patience=10, restore_best_weights=True, mode=\"min\"\n",
        ")\n",
        "\n"
      ]
    },
    {
      "cell_type": "code",
      "execution_count": null,
      "metadata": {
        "colab": {
          "base_uri": "https://localhost:8080/"
        },
        "id": "CCs_ZhbRcUz-",
        "outputId": "b3863a9b-1ffc-4307-ab02-9859f950ff6a"
      },
      "outputs": [],
      "source": [
        "print(vgg_model.summary())"
      ]
    },
    {
      "cell_type": "code",
      "execution_count": null,
      "metadata": {
        "colab": {
          "base_uri": "https://localhost:8080/"
        },
        "id": "OIXaCiNkzsz2",
        "outputId": "4a120051-ba74-4a41-f76b-363a683fd495"
      },
      "outputs": [],
      "source": [
        "%%time\n",
        "\n",
        "\n",
        "vgg_history = vgg_model.fit(\n",
        "    traingen,\n",
        "    batch_size=BATCH_SIZE,\n",
        "    epochs=n_epochs,\n",
        "    validation_data=validgen,\n",
        "    steps_per_epoch=n_steps,\n",
        "    validation_steps=n_val_steps,\n",
        "    callbacks=[tl_checkpoint_1, early_stop, plot_loss_1],\n",
        "    verbose=1,\n",
        ")"
      ]
    },
    {
      "cell_type": "code",
      "execution_count": null,
      "metadata": {
        "id": "o8_6jZPazy1U"
      },
      "outputs": [],
      "source": [
        "# Generate predictions\n",
        "vgg_model.load_weights('drive/MyDrive/task_1/main_vgg.weights.best.keras') # initialize the best trained weights\n",
        "\n",
        "true_classes = testgen.classes\n",
        "class_indices = traingen.class_indices\n",
        "class_indices = dict((v,k) for k,v in class_indices.items())\n",
        "\n",
        "vgg_preds = vgg_model.predict(testgen)\n",
        "vgg_pred_classes = np.argmax(vgg_preds, axis=1)"
      ]
    },
    {
      "cell_type": "code",
      "execution_count": null,
      "metadata": {
        "id": "RLTxY24K5wR4"
      },
      "outputs": [],
      "source": [
        "print(vgg_pred_classes)\n"
      ]
    },
    {
      "cell_type": "code",
      "execution_count": null,
      "metadata": {
        "id": "7GDifBYJ0o4p"
      },
      "outputs": [],
      "source": [
        "vgg_acc = accuracy_score(true_classes, vgg_pred_classes)\n",
        "print(\"VGG16 Model Accuracy without Fine-Tuning: {:.2f}%\".format(vgg_acc * 100))"
      ]
    },
    {
      "cell_type": "code",
      "execution_count": null,
      "metadata": {
        "id": "xHYnVxUj-t9C"
      },
      "outputs": [],
      "source": [
        "from sklearn.metrics import confusion_matrix, ConfusionMatrixDisplay\n",
        "import matplotlib.pyplot as plt\n",
        "import seaborn as sns\n",
        "# Compute the confusion matrix\n",
        "cm = confusion_matrix(true_classes, vgg_pred_classes)\n",
        "\n",
        "# Plot the confusion matrix\n",
        "plt.figure(figsize=(10, 7))\n",
        "sns.heatmap(cm, annot=True, fmt='d', cmap='Blues', xticklabels=class_indices.values(), yticklabels=class_indices.values())\n",
        "plt.xlabel('Predicted')\n",
        "plt.ylabel('Actual')\n",
        "plt.title('Confusion Matrix')\n",
        "plt.show()"
      ]
    },
    {
      "cell_type": "markdown",
      "metadata": {
        "id": "3euZSlVd2nTo"
      },
      "source": [
        "Using finetuning\n"
      ]
    },
    {
      "cell_type": "code",
      "execution_count": null,
      "metadata": {
        "id": "7ZsC3NBq2o_F"
      },
      "outputs": [],
      "source": [
        "# Reset our image data generators\n",
        "traingen.reset()\n",
        "validgen.reset()\n",
        "testgen.reset()\n",
        "\n",
        "# Use a smaller learning rate\n",
        "optim_2 = Adam(learning_rate=0.01)\n",
        "# ModelCheckpoint callback - save best weights\n",
        "tl_checkpoint_1 = ModelCheckpoint(\n",
        "    filepath=\"drive/MyDrive/task_1/main_vgg_ft.weights.best.keras\", save_best_only=True, verbose=1\n",
        ")\n",
        "\n",
        "# Re-compile the model, this time leaving the last 2 layers unfrozen for Fine-Tuning\n",
        "vgg_model_ft = create_model(input_shape, n_classes, optim_2, fine_tune=2)"
      ]
    },
    {
      "cell_type": "code",
      "execution_count": null,
      "metadata": {
        "id": "jmhwVsvpOWeq"
      },
      "outputs": [],
      "source": []
    },
    {
      "cell_type": "code",
      "execution_count": null,
      "metadata": {
        "colab": {
          "base_uri": "https://localhost:8080/"
        },
        "id": "-5p3Q1YQ0jUm",
        "outputId": "fa0d5cd3-fb85-48e3-f06c-2a9aee2287f9"
      },
      "outputs": [],
      "source": [
        "print(len(validgen))"
      ]
    },
    {
      "cell_type": "code",
      "execution_count": null,
      "metadata": {
        "colab": {
          "base_uri": "https://localhost:8080/",
          "height": 1000
        },
        "id": "wQDy8syw209X",
        "outputId": "53017256-a6b7-46f3-a3e0-d704f0a4198f"
      },
      "outputs": [],
      "source": [
        "%%time\n",
        "\n",
        "plot_loss_2 = PlotLossesCallback()\n",
        "\n",
        "# Retrain model with fine-tuning\n",
        "vgg_ft_history = vgg_model_ft.fit(traingen,\n",
        "                                  batch_size=BATCH_SIZE,\n",
        "                                  epochs=n_epochs,\n",
        "                                  validation_data=validgen,\n",
        "                                  steps_per_epoch=n_steps,\n",
        "                                  validation_steps=n_val_steps,\n",
        "                                  callbacks=[tl_checkpoint_1, early_stop, plot_loss_2],\n",
        "                                  verbose=1)"
      ]
    },
    {
      "cell_type": "code",
      "execution_count": null,
      "metadata": {
        "colab": {
          "base_uri": "https://localhost:8080/",
          "height": 217
        },
        "id": "PI3Vo2uL7-0p",
        "outputId": "7912d479-61ef-4dff-91c0-3d6f665f51bf"
      },
      "outputs": [],
      "source": [
        "# Generate predictions\n",
        "vgg_model_ft.load_weights('drive/MyDrive/task_1/main_vgg_ft.weights.best.keras') # initialize the best trained weights\n",
        "\n",
        "vgg_preds_ft = vgg_model_ft.predict(testgen)\n",
        "vgg_pred_classes_ft = np.argmax(vgg_preds_ft, axis=1)"
      ]
    },
    {
      "cell_type": "code",
      "execution_count": null,
      "metadata": {
        "id": "APZuDeW9JpTR"
      },
      "outputs": [],
      "source": [
        "true_classes = testgen.classes\n",
        "class_indices = traingen.class_indices\n",
        "class_indices = dict((v,k) for k,v in class_indices.items())\n",
        "\n",
        "vgg_acc_ft = accuracy_score(true_classes, vgg_pred_classes_ft)\n",
        "print(\"VGG16 Model Accuracy with Fine-Tuning: {:.2f}%\".format(vgg_acc_ft * 100))"
      ]
    },
    {
      "cell_type": "code",
      "execution_count": null,
      "metadata": {
        "id": "gFqdLtNQNze3"
      },
      "outputs": [],
      "source": [
        "print(vgg_model_ft.summary())"
      ]
    },
    {
      "cell_type": "markdown",
      "metadata": {
        "id": "KtSYU-n9C61H"
      },
      "source": []
    }
  ],
  "metadata": {
    "accelerator": "GPU",
    "colab": {
      "gpuType": "T4",
      "provenance": []
    },
    "kernelspec": {
      "display_name": "Python 3",
      "name": "python3"
    },
    "language_info": {
      "name": "python"
    }
  },
  "nbformat": 4,
  "nbformat_minor": 0
}
